{
 "cells": [
  {
   "cell_type": "code",
   "execution_count": 1,
   "id": "011903cc",
   "metadata": {},
   "outputs": [],
   "source": [
    "# 1 Pegar Conteudo HTML a partir da URL\n",
    "# 2 Parsear o conteudo HTML - BeautifulSoup\n",
    "# 3 Estruturar o conteudo em Data Frame. - Pandas\n",
    "# 4 Teansform os dados em um dicionario de dados proprio\n",
    "# 5 Converter e salvar em um arquivo JSON e CSV\n",
    "\n",
    "# PIP\n",
    "# pip install requests2\n",
    "# pip install pandas\n",
    "# pip install lxml\n",
    "# pip install beautifulsoup\n",
    "# pip install selenium"
   ]
  },
  {
   "cell_type": "code",
   "execution_count": 1,
   "id": "5652d01d",
   "metadata": {},
   "outputs": [],
   "source": [
    "import time\n",
    "import requests\n",
    "import pandas as pd\n",
    "from bs4 import BeautifulSoup\n",
    "from selenium import webdriver\n",
    "from selenium.webdriver.firefox.options import Options"
   ]
  }
 ],
 "metadata": {
  "kernelspec": {
   "display_name": "Python 3 (ipykernel)",
   "language": "python",
   "name": "python3"
  },
  "language_info": {
   "codemirror_mode": {
    "name": "ipython",
    "version": 3
   },
   "file_extension": ".py",
   "mimetype": "text/x-python",
   "name": "python",
   "nbconvert_exporter": "python",
   "pygments_lexer": "ipython3",
   "version": "3.9.13"
  }
 },
 "nbformat": 4,
 "nbformat_minor": 5
}
